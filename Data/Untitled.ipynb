{
 "cells": [
  {
   "cell_type": "code",
   "execution_count": 1,
   "metadata": {},
   "outputs": [],
   "source": [
    "import ProcessData\n",
    "from dgl import DGLGraph\n",
    "import dgl\n",
    "import dgl.function as fn\n",
    "import torch\n",
    "import numpy as np"
   ]
  },
  {
   "cell_type": "raw",
   "metadata": {},
   "source": [
    "class LoadData():\n",
    "    def __init__(self,filename):\n",
    "        title,labels,jconf,authors,FullName,organization = ProcessData.ProcessingRawData(\"1\\\"+filename)\n",
    "                                                                                         \n",
    "                                                                                         \n",
    "        title = ProcessData.Wipe_off_Punctuation(title)\n",
    "        title_vocab,title_split = ProcessData.Split_Title(title)\n",
    "        title_one_hot,Max_Sequence_Len,vocab_size = ProcessData.One_hot_encoding(title_vocab,title_split)\n",
    "        title_one_hot_padding = ProcessData.Padding_One_hot(title_one_hot,Max_Sequence_Len)\n",
    "        author_vocab,authors_split = ProcessData.Split_Authors(authors)\n",
    "        num_class = max(labels)+1\n",
    "        self.author_name = FullName\n",
    "        self.num_nodes = len(title)\n",
    "        self.num_class = num_class \n",
    "                                                                                        \n",
    "        \n",
    "    def Create_Graph(g,full_name,authors_split,jconf,organization):\n",
    "        g.add_nodes(len(authors_split))\n",
    "        edge_type = []\n",
    "        for i in range(len(authors_split)):\n",
    "            for j in range(len(authors_split)):\n",
    "                if jconf[i] == jconf[j]:\n",
    "                    g.add_edges(i,j)\n",
    "                    edge_type.append(0)\n",
    "\n",
    "                for k in range(len(authors_split[i])):\n",
    "                    if  authors_split[i][k] in authors_split[j] and authors_split[i][k] != full_name:\n",
    "                        #print(\"name: \",authors_split[i][k],\"i: \",i,\"j: \",j)\n",
    "                        g.add_edges(i,j)\n",
    "                        edge_type.append(1)\n",
    "                        break;\n",
    "                if organization[i] == organization[j] and organization[i] != 'null':\n",
    "                    g.add_edges(i,j)\n",
    "                    edge_type.append(2)\n",
    "        return edge_type"
   ]
  },
  {
   "cell_type": "code",
   "execution_count": 16,
   "metadata": {},
   "outputs": [],
   "source": [
    "def Create_Graph(g,full_name,authors_split,jconf,organization):\n",
    "    g.add_nodes(len(authors_split))\n",
    "    edge_type = []\n",
    "    for i in range(len(authors_split)):\n",
    "        for j in range(len(authors_split)):\n",
    "            if jconf[i] == jconf[j]:\n",
    "                g.add_edges(i,j)\n",
    "                edge_type.append(0)\n",
    "            \n",
    "            for k in range(len(authors_split[i])):\n",
    "                if  authors_split[i][k] in authors_split[j] and authors_split[i][k] != full_name:\n",
    "                    #print(\"name: \",authors_split[i][k],\"i: \",i,\"j: \",j)\n",
    "                    g.add_edges(i,j)\n",
    "                    edge_type.append(1)\n",
    "                    break;\n",
    "            if organization[i] == organization[j] and organization[i] != 'null':\n",
    "                g.add_edges(i,j)\n",
    "                edge_type.append(2)\n",
    "    return edge_type"
   ]
  },
  {
   "cell_type": "code",
   "execution_count": 2,
   "metadata": {},
   "outputs": [],
   "source": [
    "def LoadData(filename):\n",
    "\n",
    "    xml = filename + \".xml\"\n",
    "    trace=\"Data\\\\\"+filename+\"\\\\\"\n",
    "    title,labels,jconf,authors,FullName,organization = ProcessData.ProcessingRawData(trace+xml)\n",
    "    title = ProcessData.Wipe_off_Punctuation(title)\n",
    "    title_vocab,title_split = ProcessData.Split_Title(title)\n",
    "    title_one_hot,Max_Sequence_Len,vocab_size = ProcessData.One_hot_encoding(title_vocab,title_split)\n",
    "    title_one_hot_padding = ProcessData.Padding_One_hot(title_one_hot,Max_Sequence_Len)\n",
    "    author_vocab,authors_split = ProcessData.Split_Authors(authors)\n",
    "    \n",
    "    edge_type = np.load(trace+\"edge_type.npy\")\n",
    "    edge_list_src = np.load(trace+\"edge_list_src.npy\")\n",
    "    edge_list_dst = np.load(trace+\"edge_list_dst.npy\")\n",
    "    \n",
    "    num_nodes = len(authors_split)\n",
    "    edge_norm = [1 for i in range(len(edge_type))]\n",
    "    \n",
    "#     g = dgl.DGLGraph()\n",
    "#     g.add_nodes(len(authors_split))\n",
    "#     g.add_edges(edge_list_src,edge_list_dst)\n",
    "#     edge_norm = [1 for i in range(len(edge_type))]\n",
    "#     g.edata.update({'type': torch.LongTensor(edge_type), 'norm': torch.Tensor(edge_norm)})\n",
    "    print(\"Number of edges: \",len(g.edges()[0]))\n",
    "    print(\"Number of nodes: \",len(authors_split))\n",
    "    print(\"Number of class: \",max(labels)+1)\n",
    "    \n",
    "    return edge_type,edge_list_src,edge_list_dstnum_nodes,edge_norm"
   ]
  },
  {
   "cell_type": "code",
   "execution_count": 43,
   "metadata": {},
   "outputs": [
    {
     "name": "stdout",
     "output_type": "stream",
     "text": [
      "Author Name: Ajay Gupta\n",
      "Number of Nodes: 36\n",
      "Number of Class: 9\n",
      "Number of edges:  221\n"
     ]
    }
   ],
   "source": [
    "data = LoadData(\"1\")"
   ]
  },
  {
   "cell_type": "code",
   "execution_count": null,
   "metadata": {},
   "outputs": [],
   "source": []
  }
 ],
 "metadata": {
  "kernelspec": {
   "display_name": "Python 3",
   "language": "python",
   "name": "python3"
  },
  "language_info": {
   "codemirror_mode": {
    "name": "ipython",
    "version": 3
   },
   "file_extension": ".py",
   "mimetype": "text/x-python",
   "name": "python",
   "nbconvert_exporter": "python",
   "pygments_lexer": "ipython3",
   "version": "3.6.5"
  }
 },
 "nbformat": 4,
 "nbformat_minor": 2
}
